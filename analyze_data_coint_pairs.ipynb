{
 "cells": [
  {
   "cell_type": "code",
   "execution_count": 9,
   "id": "initial_id",
   "metadata": {
    "collapsed": true,
    "ExecuteTime": {
     "end_time": "2023-12-11T07:42:05.336624Z",
     "start_time": "2023-12-11T07:42:05.248430Z"
    }
   },
   "outputs": [
    {
     "name": "stdout",
     "output_type": "stream",
     "text": [
      "The autoreload extension is already loaded. To reload it, use:\n",
      "  %reload_ext autoreload\n"
     ]
    }
   ],
   "source": [
    "%load_ext autoreload\n",
    "%autoreload 2"
   ]
  },
  {
   "cell_type": "code",
   "execution_count": 10,
   "outputs": [],
   "source": [
    "import tqdm\n",
    "import pandas as pd\n",
    "import pathlib\n",
    "import itertools\n",
    "import warnings\n",
    "import collections\n",
    "\n",
    "from statsmodels.tsa.api import VAR\n",
    "from statsmodels.tsa.stattools import coint\n",
    "from statsmodels.tsa.vector_ar.vecm import coint_johansen"
   ],
   "metadata": {
    "collapsed": false,
    "ExecuteTime": {
     "end_time": "2023-12-11T07:42:05.915425Z",
     "start_time": "2023-12-11T07:42:05.900251Z"
    }
   },
   "id": "6624fa5ea7c92e94"
  },
  {
   "cell_type": "code",
   "execution_count": 11,
   "outputs": [
    {
     "name": "stderr",
     "output_type": "stream",
     "text": [
      "50it [00:04, 11.45it/s]\n"
     ]
    }
   ],
   "source": [
    "DATA_PATH = pathlib.Path(\"/Users/borsden/Projects/crypto_research/data\")\n",
    "def get_data(interval: int):\n",
    "    \"\"\"Use cached version of data instead of influxdb\"\"\"\n",
    "    data_path = DATA_PATH / interval\n",
    "    pairs_paths = data_path.glob(\"*.csv\")\n",
    "    for pair_path in tqdm.tqdm(pairs_paths):\n",
    "        data = pd.read_csv(pair_path, index_col=['time', 'pair'], parse_dates=['time'])\n",
    "        \n",
    "        yield pair_path.stem, data\n",
    "        \n",
    "        \n",
    "data = dict(get_data('1h'))\n",
    "number_of_records = {pair: len(df) for pair, df in data.items()}\n",
    "\n",
    "# There are enomorous pairs with not enough data. Let skip them\n",
    "# all_records_size = collections.Counter(number_of_records.values()).most_common()[0][0]\n",
    "# data = {key: value for key, value in data.items() if len(value)==all_records_size}\n",
    "# number_of_records = {pair: len(df) for pair, df in data.items()}"
   ],
   "metadata": {
    "collapsed": false,
    "ExecuteTime": {
     "end_time": "2023-12-11T07:42:12.547050Z",
     "start_time": "2023-12-11T07:42:08.161384Z"
    }
   },
   "id": "9c37f3eade2e091"
  },
  {
   "cell_type": "code",
   "execution_count": 12,
   "outputs": [
    {
     "data": {
      "text/plain": "{'runeusdt': 17520,\n 'blzusdt': 17520,\n 'nearusdt': 17520,\n 'sushiusdt': 16520,\n 'aaveusdt': 17520,\n 'dotusdt': 17520,\n 'dogeusdt': 17520,\n 'filusdt': 17520,\n 'trbusdt': 17520,\n 'avaxusdt': 17520,\n 'ognusdt': 17520,\n 'linkusdt': 17520,\n 'zrxusdt': 17520,\n 'solusdt': 17520,\n 'dydxusdt': 17520,\n 'bchusdt': 17520,\n 'bnbusdt': 17520,\n 'bakeusdt': 17520,\n 'ltcusdt': 17520,\n 'stmxusdt': 17520,\n 'compusdt': 17520,\n 'atomusdt': 17520,\n 'snxusdt': 17520,\n 'linausdt': 17520,\n 'mtlusdt': 17520,\n 'crvusdt': 17520,\n 'trxusdt': 17520,\n 'uniusdt': 17520,\n 'ftmusdt': 17520,\n '1000shibusdt': 17520,\n 'ethusdt': 17520,\n 'storjusdt': 17520,\n 'btcusdt': 17520,\n 'tomousdt': 17520,\n 'hbarusdt': 17520,\n 'eosusdt': 17520,\n 'wavesusdt': 17520,\n 'sandusdt': 17520,\n 'etcusdt': 17520,\n 'mkrusdt': 17520,\n 'lptusdt': 17520,\n 'unfiusdt': 17520,\n 'adausdt': 17520,\n 'maskusdt': 17520,\n 'kncusdt': 17520,\n 'xrpusdt': 17520,\n 'xlmusdt': 17520,\n 'axsusdt': 17520,\n 'galausdt': 17520,\n 'maticusdt': 17520}"
     },
     "execution_count": 12,
     "metadata": {},
     "output_type": "execute_result"
    }
   ],
   "source": [
    "number_of_records"
   ],
   "metadata": {
    "collapsed": false,
    "ExecuteTime": {
     "end_time": "2023-12-11T07:42:12.559101Z",
     "start_time": "2023-12-11T07:42:12.545418Z"
    }
   },
   "id": "94caa6555b0f1bed"
  },
  {
   "cell_type": "code",
   "execution_count": 13,
   "outputs": [],
   "source": [
    "def get_IS_OS(data: pd.DataFrame, ratio: float):\n",
    "    \"\"\"\n",
    "    Split data into in-sample and out-of-sample datasets based on a specified ratio.\n",
    "    \"\"\"\n",
    "    split_index = int(len(data) * ratio)\n",
    "    in_sample_data = data.iloc[:split_index]\n",
    "    out_of_sample_data = data.iloc[split_index:]\n",
    "    return in_sample_data, out_of_sample_data\n",
    "\n",
    "IS_DATA = []\n",
    "OS_DATA = []\n",
    "ratio = 0.8\n",
    "\n",
    "for pair_data in data.values():\n",
    "    IS_data, OS_data = get_IS_OS(pair_data, ratio=ratio)\n",
    "    IS_DATA.append(IS_data)\n",
    "    OS_DATA.append(OS_data)\n",
    "\n",
    "IS_DATA = pd.concat(IS_DATA)\n",
    "OS_DATA = pd.concat(OS_DATA)"
   ],
   "metadata": {
    "collapsed": false,
    "ExecuteTime": {
     "end_time": "2023-12-11T07:42:20.707305Z",
     "start_time": "2023-12-11T07:42:20.600568Z"
    }
   },
   "id": "56a960e1bb94251b"
  },
  {
   "cell_type": "code",
   "execution_count": 14,
   "outputs": [
    {
     "data": {
      "text/plain": "Index(['runeusdt', 'blzusdt', 'nearusdt', 'sushiusdt', 'aaveusdt', 'dotusdt',\n       'dogeusdt', 'filusdt', 'trbusdt', 'avaxusdt', 'ognusdt', 'linkusdt',\n       'zrxusdt', 'solusdt', 'dydxusdt', 'bchusdt', 'bnbusdt', 'bakeusdt',\n       'ltcusdt', 'stmxusdt', 'compusdt', 'atomusdt', 'snxusdt', 'linausdt',\n       'mtlusdt', 'crvusdt', 'trxusdt', 'uniusdt', 'ftmusdt', '1000shibusdt',\n       'ethusdt', 'storjusdt', 'btcusdt', 'tomousdt', 'hbarusdt', 'eosusdt',\n       'wavesusdt', 'sandusdt', 'etcusdt', 'mkrusdt', 'lptusdt', 'unfiusdt',\n       'adausdt', 'maskusdt', 'kncusdt', 'xrpusdt', 'xlmusdt', 'axsusdt',\n       'galausdt', 'maticusdt'],\n      dtype='object', name='pair')"
     },
     "execution_count": 14,
     "metadata": {},
     "output_type": "execute_result"
    }
   ],
   "source": [
    "trading_pairs = IS_DATA.index.get_level_values('pair').unique()\n",
    "trading_pairs"
   ],
   "metadata": {
    "collapsed": false,
    "ExecuteTime": {
     "end_time": "2023-12-11T07:42:22.369025Z",
     "start_time": "2023-12-11T07:42:22.304311Z"
    }
   },
   "id": "9fd1818022b00ed0"
  },
  {
   "cell_type": "code",
   "execution_count": 17,
   "outputs": [],
   "source": [
    "TEST_COINTEGRATION_COLUMNS = [\n",
    "    'pair1', 'pair2', \n",
    "    'eg1', 'eg2', \n",
    "    'trace0', 'trace1', \n",
    "    'eig0', 'eig1', \n",
    "    'w1', 'w2'\n",
    "]\n",
    "\n",
    "\n",
    "def test_cointegration(data):\n",
    "    \"\"\"\n",
    "    Test for cointegration among trading pairs.\n",
    "    Assumes that the data provided is already in-sample.\n",
    "    \"\"\"\n",
    "    # Assuming the latest data in crypto_data is the end of the in-sample period\n",
    "    trading_pairs = data.index.get_level_values('pair').unique()\n",
    "    results = []\n",
    "    \n",
    "    trading_pairs_combinations = list(itertools.combinations(trading_pairs, 2))\n",
    "\n",
    "    for pair1, pair2 in tqdm.tqdm(trading_pairs_combinations):\n",
    "        # Some trading pairs can have \n",
    "        close_pair1 = data.xs(pair1, level='pair')['close'].ffill()\n",
    "        close_pair2 = data.xs(pair2, level='pair')['close'].ffill()\n",
    "\n",
    "\n",
    "        with warnings.catch_warnings():\n",
    "            warnings.simplefilter('ignore')\n",
    "            try:\n",
    "                result = [pair1, pair2]\n",
    "                result += [coint(close_pair1, close_pair2)[1], coint(close_pair2, close_pair1)[1]]\n",
    "    \n",
    "                df_merged = pd.concat([close_pair1, close_pair2], axis=1).dropna()\n",
    "                if len(df_merged) < 100:\n",
    "                    continue\n",
    "    \n",
    "                order = VAR(df_merged).select_order().selected_orders['aic']\n",
    "                cj = coint_johansen(df_merged, det_order=0, k_ar_diff=order)\n",
    "                result += list(cj.lr1) + list(cj.lr2) + list(cj.evec[:, cj.ind[0]])\n",
    "                results.append(result)\n",
    "            except Exception as e:\n",
    "                print(e, pair1, pair2)\n",
    "\n",
    "    return pd.DataFrame(results, columns=TEST_COINTEGRATION_COLUMNS)"
   ],
   "metadata": {
    "collapsed": false,
    "ExecuteTime": {
     "end_time": "2023-12-11T07:43:29.334341Z",
     "start_time": "2023-12-11T07:43:29.306621Z"
    }
   },
   "id": "dc1f09a6a64510b"
  },
  {
   "cell_type": "code",
   "execution_count": 20,
   "outputs": [],
   "source": [
    "test_cointegration_result = test_cointegration(IS_DATA)\n"
   ],
   "metadata": {
    "collapsed": false,
    "ExecuteTime": {
     "end_time": "2023-12-11T10:48:12.960206Z",
     "start_time": "2023-12-11T10:48:12.884118Z"
    }
   },
   "id": "5b6b39f11120bd4"
  },
  {
   "cell_type": "code",
   "execution_count": 21,
   "outputs": [],
   "source": [
    "test_cointegration_result.to_csv(\"./data/test_cointegration_result.csv\", index=False)"
   ],
   "metadata": {
    "collapsed": false,
    "ExecuteTime": {
     "end_time": "2023-12-11T10:48:44.249348Z",
     "start_time": "2023-12-11T10:48:44.186186Z"
    }
   },
   "id": "3825aa2af4639ede"
  },
  {
   "cell_type": "code",
   "execution_count": 1,
   "outputs": [
    {
     "ename": "NameError",
     "evalue": "name 'test_cointegration_result' is not defined",
     "output_type": "error",
     "traceback": [
      "\u001B[0;31m---------------------------------------------------------------------------\u001B[0m",
      "\u001B[0;31mNameError\u001B[0m                                 Traceback (most recent call last)",
      "Cell \u001B[0;32mIn[1], line 1\u001B[0m\n\u001B[0;32m----> 1\u001B[0m \u001B[43mtest_cointegration_result\u001B[49m\n",
      "\u001B[0;31mNameError\u001B[0m: name 'test_cointegration_result' is not defined"
     ]
    }
   ],
   "source": [
    "test_cointegration_result"
   ],
   "metadata": {
    "collapsed": false,
    "ExecuteTime": {
     "end_time": "2023-12-12T09:29:16.913245Z",
     "start_time": "2023-12-12T09:29:16.809982Z"
    }
   },
   "id": "c754d55357241220"
  },
  {
   "cell_type": "code",
   "execution_count": null,
   "outputs": [],
   "source": [],
   "metadata": {
    "collapsed": false
   },
   "id": "44ed1e782f009511"
  }
 ],
 "metadata": {
  "kernelspec": {
   "display_name": "Python 3",
   "language": "python",
   "name": "python3"
  },
  "language_info": {
   "codemirror_mode": {
    "name": "ipython",
    "version": 2
   },
   "file_extension": ".py",
   "mimetype": "text/x-python",
   "name": "python",
   "nbconvert_exporter": "python",
   "pygments_lexer": "ipython2",
   "version": "2.7.6"
  }
 },
 "nbformat": 4,
 "nbformat_minor": 5
}
