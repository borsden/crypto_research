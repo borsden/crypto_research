{
 "cells": [
  {
   "cell_type": "code",
   "execution_count": 1,
   "outputs": [],
   "source": [
    "%load_ext autoreload\n",
    "%autoreload 2"
   ],
   "metadata": {
    "collapsed": false,
    "pycharm": {
     "name": "#%%\n"
    }
   }
  },
  {
   "cell_type": "code",
   "execution_count": 177,
   "outputs": [],
   "source": [
    "# from datetime import datetime\n",
    "#\n",
    "# pairs = [f\"{coin}usdt\" for coin in COINS]\n",
    "# start = datetime(year=2023, month=7, day=23)\n",
    "# end = datetime.now()\n",
    "#\n",
    "# limit = 900\n",
    "# interval = '1m'\n",
    "# from contextlib import contextmanager\n",
    "#\n",
    "# with RateWeight(total_weight=1000, update_period=62) as rate_weight:\n",
    "#     res = await run_data_tasks(rate_weight, pairs, start, end, limit, interval)\n"
   ],
   "metadata": {
    "collapsed": false,
    "pycharm": {
     "name": "#%%\n"
    }
   }
  },
  {
   "cell_type": "code",
   "execution_count": 178,
   "outputs": [
    {
     "name": "stdout",
     "output_type": "stream",
     "text": [
      "CPU times: user 1min 16s, sys: 1.05 s, total: 1min 17s\n",
      "Wall time: 1min 26s\n"
     ]
    }
   ],
   "source": [
    "%%time\n",
    "\n",
    "bucket = \"FUTURES\"\n",
    "measurement = \"klines\"\n",
    "\n",
    "field_data, coin_data = get_data(\n",
    "    measurement=measurement, bucket=bucket,\n",
    "    aggregate_window='10m', aggregate_func='last'\n",
    ")"
   ],
   "metadata": {
    "collapsed": false,
    "pycharm": {
     "name": "#%%\n"
    }
   }
  },
  {
   "cell_type": "code",
   "execution_count": 6,
   "outputs": [],
   "source": [
    "# import numpy as np\n",
    "# import pandas as pd\n",
    "#\n",
    "# def fisher_transform(r):\n",
    "#     return 0.5 * np.log((1 + r) / (1 - r))\n",
    "#\n",
    "# def inverse_fisher_transform(z):\n",
    "#     return (np.exp(2 * z) - 1) / (np.exp(2 * z) + 1)\n",
    "#\n",
    "# WINDOW = 24 * 7\n",
    "# df = np.log1p(field_data.close.pct_change()).rolling(WINDOW,  min_periods=WINDOW).corr()\n",
    "# df_reset = df.reset_index()\n",
    "# df_melt = df_reset.melt(id_vars=['_time', 'coin'], var_name='coin_pair', value_name='price')\n",
    "# df_pivot = df_melt.pivot(index='_time', columns=['coin', 'coin_pair'], values='price')\n",
    "#\n",
    "#\n",
    "#\n",
    "# # columns = list(set(tuple(sorted(column)) for column in df_pivot.columns if (column[0] != column[1])))\n",
    "# columns = list(column for column in df_pivot.columns if (column[0] != column[1]))\n",
    "# df_pivot = df_pivot[columns]\n",
    "# df_pivot = df_pivot.iloc[WINDOW:]\n",
    "#\n",
    "# df_save = df_melt[(df_melt['coin'] != df_melt['coin_pair']) & (~pd.isna(df_melt['price']))]\n",
    "# # df_save = df_melt[(~pd.isna(df_melt['correlation']))]\n",
    "# df_save = df_save.set_index('_time')\n",
    "# # write_api = client.write_api()\n",
    "# #\n",
    "# # write_api.write(\n",
    "# #     bucket=STATISTICS_BUCKET,\n",
    "# #     record=df_save,\n",
    "# #     data_frame_measurement_name=MEASUREMENT,\n",
    "# #     data_frame_tag_columns=['coin', 'coin_pair']\n",
    "# # )"
   ],
   "metadata": {
    "collapsed": false,
    "pycharm": {
     "name": "#%%\n"
    }
   }
  },
  {
   "cell_type": "code",
   "execution_count": 180,
   "outputs": [],
   "source": [
    "from tqdm import tqdm\n",
    "import pandas as pd\n",
    "import numpy as np\n",
    "import statsmodels.tsa.stattools as ts\n",
    "from itertools import combinations\n",
    "import statsmodels.api as sm\n",
    "\n",
    "\n",
    "df = field_data.close\n",
    "\n",
    "def in_out_samples(data, frac=0.8) -> tuple[pd.DataFrame, pd.DataFrame]:\n",
    "    frac_index = int(frac * len(data))\n",
    "    in_sample = data.iloc[:frac_index]\n",
    "    out_sample = data.iloc[:frac_index]\n",
    "    return in_sample, out_sample\n",
    "\n",
    "\n",
    "FROM_DATE = \"2022-01-01\"\n",
    "TO_DATE = \"2023-05-01\"\n",
    "FROM_DATE, TO_DATE = [pd.to_datetime(d).tz_localize('UTC') for d in (FROM_DATE, TO_DATE)]\n",
    "df = df[(df.index > FROM_DATE)]\n",
    "\n",
    "\n",
    "in_sample, out_sample = in_out_samples(df, frac=0.8)\n",
    "\n",
    "in_sample = df[((df.index > FROM_DATE) & (df.index < TO_DATE))]\n",
    "# in_sample = df[((df.index < TO_DATE))]\n",
    "\n",
    "out_sample = df[df.index >=TO_DATE]\n",
    "\n",
    "asset_pairs = list(combinations(COINS.keys(), 2))\n",
    "#\n",
    "# ols_data = []\n",
    "# beta = {}\n",
    "# ratio = {}\n",
    "#\n",
    "# results = {}\n",
    "# for coin, coin_pair in tqdm(asset_pairs):\n",
    "#     asset1 = in_sample[coin]\n",
    "#     asset2 = in_sample[coin_pair]\n",
    "#     rat = (asset1 / asset2).mean()\n",
    "#\n",
    "#\n",
    "#     asset2 = sm.add_constant(asset2)\n",
    "#\n",
    "#     model = sm.OLS(asset1, asset2)\n",
    "#     result = model.fit()\n",
    "#\n",
    "#     hedge_ratio = result.params[1]\n",
    "#     intercept = result.params[0]\n",
    "#     r_squared = result.rsquared\n",
    "#     # Print out the statistics\n",
    "#     ols_data.append([coin, coin_pair, rat, hedge_ratio, intercept, r_squared])\n",
    "#     beta[(coin, coin_pair)] = hedge_ratio\n",
    "#     results[(coin, coin_pair)] = result\n",
    "#     ratio[(coin, coin_pair)] = rat\n",
    "# ols_data = pd.DataFrame(ols_data, columns=['coin', 'coin_pair', 'ratio', 'hedge_ratio', 'intercept', 'r_squared'])\n",
    "# ols_data"
   ],
   "metadata": {
    "collapsed": false,
    "pycharm": {
     "name": "#%%\n"
    }
   }
  },
  {
   "cell_type": "code",
   "execution_count": 189,
   "outputs": [],
   "source": [
    "# in_sample_min = in_sample.rolling('180D', min_periods=10000).min()\n",
    "# in_sample_max = in_sample.rolling('180D', min_periods=10000).max()\n",
    "\n",
    "in_sample_min = in_sample.min()\n",
    "in_sample_max = in_sample.max()\n",
    "\n",
    "\n",
    "in_sample_normalized = ((in_sample - in_sample_min) / (in_sample_max - in_sample_min)).dropna()\n",
    "# in_sample_normalized = (in_sample_normalized - 0.5) * 2\n",
    "in_sample_normalized = in_sample_normalized + 1\n",
    "\n",
    "# trend_window = '30D'\n",
    "# in_sample_detrended = in_sample_normalized - in_sample_normalized.rolling(trend_window, min_periods=1500).mean()\n",
    "# in_sample_detrended = in_sample_detrended.dropna()\n",
    "# in_sample_detrended"
   ],
   "metadata": {
    "collapsed": false,
    "pycharm": {
     "name": "#%%\n"
    }
   }
  },
  {
   "cell_type": "code",
   "execution_count": 190,
   "outputs": [
    {
     "name": "stderr",
     "output_type": "stream",
     "text": [
      "100%|██████████| 15/15 [02:06<00:00,  8.44s/it]\n"
     ]
    }
   ],
   "source": [
    "import statsmodels.tsa.stattools as ts\n",
    "\n",
    "def analyze_adfuller(series):\n",
    "    result = ts.adfuller(series)\n",
    "    return dict(zip(\n",
    "        ['coin', 'coin_pair', 'adf', 'p_value', 'critical_1%', 'critical_5%', 'critical_10%'],\n",
    "        [coin, coin_pair, result[0], result[1], *result[4].values()]\n",
    "    ))\n",
    "\n",
    "adf = []\n",
    "current = in_sample_normalized\n",
    "\n",
    "for coin, coin_pair in tqdm(asset_pairs):\n",
    "\n",
    "    asset1 = current[coin]\n",
    "    asset2 = current[coin_pair]\n",
    "    spread = asset1 / asset2\n",
    "    adf.append(analyze_adfuller(spread))\n",
    "\n",
    "adf = pd.DataFrame(adf)\n"
   ],
   "metadata": {
    "collapsed": false,
    "pycharm": {
     "name": "#%%\n"
    }
   }
  },
  {
   "cell_type": "code",
   "execution_count": 191,
   "outputs": [
    {
     "data": {
      "text/plain": "   coin coin_pair       adf   p_value  critical_1%  critical_5%  critical_10%\n0   btc       eth -1.581890  0.492684    -3.430444    -2.861581     -2.566792\n1   btc       xrp -2.190942  0.209550    -3.430444    -2.861581     -2.566792\n2   btc       sol -0.994356  0.755317    -3.430444    -2.861581     -2.566792\n3   btc       ltc -1.304488  0.627116    -3.430444    -2.861581     -2.566792\n4   btc       ada -0.923888  0.780004    -3.430444    -2.861581     -2.566792\n5   eth       xrp -2.411528  0.138509    -3.430444    -2.861581     -2.566792\n6   eth       sol -1.502295  0.532376    -3.430444    -2.861581     -2.566792\n7   eth       ltc -1.582058  0.492600    -3.430444    -2.861581     -2.566792\n8   eth       ada -1.495426  0.535773    -3.430444    -2.861581     -2.566792\n9   xrp       sol -2.285946  0.176541    -3.430444    -2.861581     -2.566792\n10  xrp       ltc -1.814290  0.373390    -3.430444    -2.861581     -2.566792\n11  xrp       ada -1.988899  0.291461    -3.430444    -2.861581     -2.566792\n12  sol       ltc -1.264073  0.645445    -3.430444    -2.861581     -2.566792\n13  sol       ada -4.557418  0.000155    -3.430444    -2.861581     -2.566792\n14  ltc       ada -1.027529  0.743092    -3.430444    -2.861581     -2.566792",
      "text/html": "<div>\n<style scoped>\n    .dataframe tbody tr th:only-of-type {\n        vertical-align: middle;\n    }\n\n    .dataframe tbody tr th {\n        vertical-align: top;\n    }\n\n    .dataframe thead th {\n        text-align: right;\n    }\n</style>\n<table border=\"1\" class=\"dataframe\">\n  <thead>\n    <tr style=\"text-align: right;\">\n      <th></th>\n      <th>coin</th>\n      <th>coin_pair</th>\n      <th>adf</th>\n      <th>p_value</th>\n      <th>critical_1%</th>\n      <th>critical_5%</th>\n      <th>critical_10%</th>\n    </tr>\n  </thead>\n  <tbody>\n    <tr>\n      <th>0</th>\n      <td>btc</td>\n      <td>eth</td>\n      <td>-1.581890</td>\n      <td>0.492684</td>\n      <td>-3.430444</td>\n      <td>-2.861581</td>\n      <td>-2.566792</td>\n    </tr>\n    <tr>\n      <th>1</th>\n      <td>btc</td>\n      <td>xrp</td>\n      <td>-2.190942</td>\n      <td>0.209550</td>\n      <td>-3.430444</td>\n      <td>-2.861581</td>\n      <td>-2.566792</td>\n    </tr>\n    <tr>\n      <th>2</th>\n      <td>btc</td>\n      <td>sol</td>\n      <td>-0.994356</td>\n      <td>0.755317</td>\n      <td>-3.430444</td>\n      <td>-2.861581</td>\n      <td>-2.566792</td>\n    </tr>\n    <tr>\n      <th>3</th>\n      <td>btc</td>\n      <td>ltc</td>\n      <td>-1.304488</td>\n      <td>0.627116</td>\n      <td>-3.430444</td>\n      <td>-2.861581</td>\n      <td>-2.566792</td>\n    </tr>\n    <tr>\n      <th>4</th>\n      <td>btc</td>\n      <td>ada</td>\n      <td>-0.923888</td>\n      <td>0.780004</td>\n      <td>-3.430444</td>\n      <td>-2.861581</td>\n      <td>-2.566792</td>\n    </tr>\n    <tr>\n      <th>5</th>\n      <td>eth</td>\n      <td>xrp</td>\n      <td>-2.411528</td>\n      <td>0.138509</td>\n      <td>-3.430444</td>\n      <td>-2.861581</td>\n      <td>-2.566792</td>\n    </tr>\n    <tr>\n      <th>6</th>\n      <td>eth</td>\n      <td>sol</td>\n      <td>-1.502295</td>\n      <td>0.532376</td>\n      <td>-3.430444</td>\n      <td>-2.861581</td>\n      <td>-2.566792</td>\n    </tr>\n    <tr>\n      <th>7</th>\n      <td>eth</td>\n      <td>ltc</td>\n      <td>-1.582058</td>\n      <td>0.492600</td>\n      <td>-3.430444</td>\n      <td>-2.861581</td>\n      <td>-2.566792</td>\n    </tr>\n    <tr>\n      <th>8</th>\n      <td>eth</td>\n      <td>ada</td>\n      <td>-1.495426</td>\n      <td>0.535773</td>\n      <td>-3.430444</td>\n      <td>-2.861581</td>\n      <td>-2.566792</td>\n    </tr>\n    <tr>\n      <th>9</th>\n      <td>xrp</td>\n      <td>sol</td>\n      <td>-2.285946</td>\n      <td>0.176541</td>\n      <td>-3.430444</td>\n      <td>-2.861581</td>\n      <td>-2.566792</td>\n    </tr>\n    <tr>\n      <th>10</th>\n      <td>xrp</td>\n      <td>ltc</td>\n      <td>-1.814290</td>\n      <td>0.373390</td>\n      <td>-3.430444</td>\n      <td>-2.861581</td>\n      <td>-2.566792</td>\n    </tr>\n    <tr>\n      <th>11</th>\n      <td>xrp</td>\n      <td>ada</td>\n      <td>-1.988899</td>\n      <td>0.291461</td>\n      <td>-3.430444</td>\n      <td>-2.861581</td>\n      <td>-2.566792</td>\n    </tr>\n    <tr>\n      <th>12</th>\n      <td>sol</td>\n      <td>ltc</td>\n      <td>-1.264073</td>\n      <td>0.645445</td>\n      <td>-3.430444</td>\n      <td>-2.861581</td>\n      <td>-2.566792</td>\n    </tr>\n    <tr>\n      <th>13</th>\n      <td>sol</td>\n      <td>ada</td>\n      <td>-4.557418</td>\n      <td>0.000155</td>\n      <td>-3.430444</td>\n      <td>-2.861581</td>\n      <td>-2.566792</td>\n    </tr>\n    <tr>\n      <th>14</th>\n      <td>ltc</td>\n      <td>ada</td>\n      <td>-1.027529</td>\n      <td>0.743092</td>\n      <td>-3.430444</td>\n      <td>-2.861581</td>\n      <td>-2.566792</td>\n    </tr>\n  </tbody>\n</table>\n</div>"
     },
     "execution_count": 191,
     "metadata": {},
     "output_type": "execute_result"
    }
   ],
   "source": [
    "adf"
   ],
   "metadata": {
    "collapsed": false,
    "pycharm": {
     "name": "#%%\n"
    }
   }
  },
  {
   "cell_type": "code",
   "execution_count": null,
   "outputs": [],
   "source": [
    "adf"
   ],
   "metadata": {
    "collapsed": false,
    "pycharm": {
     "name": "#%%\n"
    }
   }
  },
  {
   "cell_type": "code",
   "execution_count": 109,
   "outputs": [],
   "source": [
    "\n",
    "df = field_data.close\n",
    "df_normalized = ((df - in_sample.min()) / (in_sample.max() - in_sample.min())).dropna()"
   ],
   "metadata": {
    "collapsed": false,
    "pycharm": {
     "name": "#%%\n"
    }
   }
  },
  {
   "cell_type": "code",
   "execution_count": 112,
   "outputs": [],
   "source": [
    "df_save = df_normalized.stack().reset_index()\n",
    "df_save.columns = ['time', 'coin', 'price']\n",
    "df_save = df_save.set_index(\"time\")\n",
    "\n",
    "from futures.db import get_client\n",
    "client = get_client()\n",
    "\n",
    "write_api = client.write_api()\n",
    "bucket_api = client.buckets_api()\n",
    "\n",
    "BUCKET = \"COINTEGRATED\"\n",
    "\n",
    "bucket = bucket_api.find_bucket_by_name(BUCKET)\n",
    "\n",
    "bucket_api.delete_bucket(bucket)\n",
    "\n",
    "bucket_api.create_bucket(bucket_name=BUCKET)\n",
    "\n",
    "write_api.write(\n",
    "    bucket=BUCKET,\n",
    "    record=df_save,\n",
    "    data_frame_measurement_name='price',\n",
    "    data_frame_tag_columns=['coin']\n",
    ")"
   ],
   "metadata": {
    "collapsed": false,
    "pycharm": {
     "name": "#%%\n"
    }
   }
  },
  {
   "cell_type": "code",
   "execution_count": 113,
   "outputs": [
    {
     "name": "stderr",
     "output_type": "stream",
     "text": [
      "100%|██████████| 15/15 [00:16<00:00,  1.08s/it]\n"
     ]
    }
   ],
   "source": [
    "\n",
    "MIN_PERIOD = 6 * 24 * 10\n",
    "trend_window = '10d'\n",
    "df_sample_detrended = df_normalized - df_normalized.rolling(trend_window, min_periods=MIN_PERIOD).mean()\n",
    "df_sample_detrended = df_sample_detrended.dropna()\n",
    "\n",
    "\n",
    "current = df_sample_detrended\n",
    "\n",
    "for coin, coin_pair in tqdm(asset_pairs):\n",
    "    asset1 = current[coin]\n",
    "    asset2 = current[coin_pair]\n",
    "    stationary = asset1 - asset2\n",
    "    stationary_mean = stationary.rolling(trend_window, min_periods=MIN_PERIOD).mean()\n",
    "    stationary_std = stationary.rolling(trend_window, min_periods=MIN_PERIOD).std()\n",
    "#\n",
    "    stationary_normalized = (stationary - stationary_mean) / stationary_std\n",
    "    stationary_normalized = stationary_normalized.dropna()\n",
    "\n",
    "    st = pd.DataFrame(stationary_normalized, columns=['spread'])\n",
    "    st['coin_pair'] = f\"{coin}-{coin_pair}\"\n",
    "\n",
    "    write_api.write(\n",
    "        bucket=BUCKET,\n",
    "        record=st,\n",
    "        data_frame_measurement_name='spread',\n",
    "        data_frame_tag_columns=['coin_pair']\n",
    "    )\n"
   ],
   "metadata": {
    "collapsed": false,
    "pycharm": {
     "name": "#%%\n"
    }
   }
  },
  {
   "cell_type": "code",
   "execution_count": 176,
   "outputs": [
    {
     "data": {
      "text/plain": "<Axes: xlabel='_time'>"
     },
     "execution_count": 176,
     "metadata": {},
     "output_type": "execute_result"
    },
    {
     "data": {
      "text/plain": "<Figure size 640x480 with 1 Axes>",
      "image/png": "[encoded data removed]"
     },
     "metadata": {},
     "output_type": "display_data"
    }
   ],
   "source": [
    "coin, coin_pair = \"btc\", \"eth\"\n",
    "asset1 = current[coin]\n",
    "asset2 = current[coin_pair]\n",
    "stationary = asset1 - asset2\n",
    "stationary_mean = stationary.rolling(trend_window, min_periods=MIN_PERIOD).mean()\n",
    "stationary_std = stationary.rolling(trend_window, min_periods=MIN_PERIOD).std()\n",
    "stationary_normalized = (stationary - stationary_mean) / stationary_std\n",
    "stationary_normalized.plot()"
   ],
   "metadata": {
    "collapsed": false,
    "pycharm": {
     "name": "#%%\n"
    }
   }
  },
  {
   "cell_type": "code",
   "execution_count": null,
   "outputs": [],
   "source": [],
   "metadata": {
    "collapsed": false,
    "pycharm": {
     "name": "#%%\n"
    }
   }
  },
  {
   "cell_type": "code",
   "execution_count": 142,
   "outputs": [
    {
     "data": {
      "text/plain": "133201"
     },
     "execution_count": 142,
     "metadata": {},
     "output_type": "execute_result"
    }
   ],
   "source": [
    "len(stationary_normalized)"
   ],
   "metadata": {
    "collapsed": false,
    "pycharm": {
     "name": "#%%\n"
    }
   }
  },
  {
   "cell_type": "code",
   "execution_count": 140,
   "outputs": [
    {
     "data": {
      "text/plain": "-0.002489276509019197"
     },
     "execution_count": 140,
     "metadata": {},
     "output_type": "execute_result"
    }
   ],
   "source": [
    "stationary_normalized.mean()"
   ],
   "metadata": {
    "collapsed": false,
    "pycharm": {
     "name": "#%%\n"
    }
   }
  },
  {
   "cell_type": "code",
   "execution_count": 120,
   "outputs": [
    {
     "data": {
      "text/plain": "coin                            ada       btc       eth       ltc       sol  \\\n_time                                                                         \n2020-12-31 21:10:00+00:00       NaN       NaN       NaN       NaN       NaN   \n2020-12-31 21:20:00+00:00 -0.000276  0.004861 -0.000377  0.002329 -0.001917   \n2020-12-31 21:30:00+00:00  0.000111 -0.001752 -0.002967 -0.004342 -0.002517   \n2020-12-31 21:40:00+00:00 -0.000995 -0.001843 -0.001541 -0.000403  0.000597   \n2020-12-31 21:50:00+00:00  0.001161 -0.000794 -0.000149  0.001047  0.001060   \n...                             ...       ...       ...       ...       ...   \n2023-07-24 20:20:00+00:00 -0.001318  0.000038 -0.000195 -0.000676  0.001027   \n2023-07-24 20:30:00+00:00 -0.000330  0.000367 -0.000108 -0.000451 -0.001584   \n2023-07-24 20:40:00+00:00 -0.002641 -0.001161 -0.000590 -0.002823 -0.002575   \n2023-07-24 20:50:00+00:00  0.002311  0.001299  0.001169  0.001695  0.001374   \n2023-07-24 21:00:00+00:00  0.000989  0.000007  0.000341  0.000000  0.001372   \n\ncoin                            xrp  \n_time                                \n2020-12-31 21:10:00+00:00       NaN  \n2020-12-31 21:20:00+00:00  0.004450  \n2020-12-31 21:30:00+00:00 -0.004450  \n2020-12-31 21:40:00+00:00 -0.001339  \n2020-12-31 21:50:00+00:00  0.001339  \n...                             ...  \n2023-07-24 20:20:00+00:00 -0.000142  \n2023-07-24 20:30:00+00:00 -0.002697  \n2023-07-24 20:40:00+00:00 -0.004845  \n2023-07-24 20:50:00+00:00  0.002140  \n2023-07-24 21:00:00+00:00  0.000143  \n\n[134640 rows x 6 columns]",
      "text/html": "<div>\n<style scoped>\n    .dataframe tbody tr th:only-of-type {\n        vertical-align: middle;\n    }\n\n    .dataframe tbody tr th {\n        vertical-align: top;\n    }\n\n    .dataframe thead th {\n        text-align: right;\n    }\n</style>\n<table border=\"1\" class=\"dataframe\">\n  <thead>\n    <tr style=\"text-align: right;\">\n      <th>coin</th>\n      <th>ada</th>\n      <th>btc</th>\n      <th>eth</th>\n      <th>ltc</th>\n      <th>sol</th>\n      <th>xrp</th>\n    </tr>\n    <tr>\n      <th>_time</th>\n      <th></th>\n      <th></th>\n      <th></th>\n      <th></th>\n      <th></th>\n      <th></th>\n    </tr>\n  </thead>\n  <tbody>\n    <tr>\n      <th>2020-12-31 21:10:00+00:00</th>\n      <td>NaN</td>\n      <td>NaN</td>\n      <td>NaN</td>\n      <td>NaN</td>\n      <td>NaN</td>\n      <td>NaN</td>\n    </tr>\n    <tr>\n      <th>2020-12-31 21:20:00+00:00</th>\n      <td>-0.000276</td>\n      <td>0.004861</td>\n      <td>-0.000377</td>\n      <td>0.002329</td>\n      <td>-0.001917</td>\n      <td>0.004450</td>\n    </tr>\n    <tr>\n      <th>2020-12-31 21:30:00+00:00</th>\n      <td>0.000111</td>\n      <td>-0.001752</td>\n      <td>-0.002967</td>\n      <td>-0.004342</td>\n      <td>-0.002517</td>\n      <td>-0.004450</td>\n    </tr>\n    <tr>\n      <th>2020-12-31 21:40:00+00:00</th>\n      <td>-0.000995</td>\n      <td>-0.001843</td>\n      <td>-0.001541</td>\n      <td>-0.000403</td>\n      <td>0.000597</td>\n      <td>-0.001339</td>\n    </tr>\n    <tr>\n      <th>2020-12-31 21:50:00+00:00</th>\n      <td>0.001161</td>\n      <td>-0.000794</td>\n      <td>-0.000149</td>\n      <td>0.001047</td>\n      <td>0.001060</td>\n      <td>0.001339</td>\n    </tr>\n    <tr>\n      <th>...</th>\n      <td>...</td>\n      <td>...</td>\n      <td>...</td>\n      <td>...</td>\n      <td>...</td>\n      <td>...</td>\n    </tr>\n    <tr>\n      <th>2023-07-24 20:20:00+00:00</th>\n      <td>-0.001318</td>\n      <td>0.000038</td>\n      <td>-0.000195</td>\n      <td>-0.000676</td>\n      <td>0.001027</td>\n      <td>-0.000142</td>\n    </tr>\n    <tr>\n      <th>2023-07-24 20:30:00+00:00</th>\n      <td>-0.000330</td>\n      <td>0.000367</td>\n      <td>-0.000108</td>\n      <td>-0.000451</td>\n      <td>-0.001584</td>\n      <td>-0.002697</td>\n    </tr>\n    <tr>\n      <th>2023-07-24 20:40:00+00:00</th>\n      <td>-0.002641</td>\n      <td>-0.001161</td>\n      <td>-0.000590</td>\n      <td>-0.002823</td>\n      <td>-0.002575</td>\n      <td>-0.004845</td>\n    </tr>\n    <tr>\n      <th>2023-07-24 20:50:00+00:00</th>\n      <td>0.002311</td>\n      <td>0.001299</td>\n      <td>0.001169</td>\n      <td>0.001695</td>\n      <td>0.001374</td>\n      <td>0.002140</td>\n    </tr>\n    <tr>\n      <th>2023-07-24 21:00:00+00:00</th>\n      <td>0.000989</td>\n      <td>0.000007</td>\n      <td>0.000341</td>\n      <td>0.000000</td>\n      <td>0.001372</td>\n      <td>0.000143</td>\n    </tr>\n  </tbody>\n</table>\n<p>134640 rows × 6 columns</p>\n</div>"
     },
     "execution_count": 120,
     "metadata": {},
     "output_type": "execute_result"
    }
   ],
   "source": [
    "np.log1p(df.pct_change())"
   ],
   "metadata": {
    "collapsed": false,
    "pycharm": {
     "name": "#%%\n"
    }
   }
  },
  {
   "cell_type": "code",
   "execution_count": 123,
   "outputs": [
    {
     "data": {
      "text/plain": "coin                            ada       btc       eth       ltc       sol  \\\n_time                                                                         \n2020-12-31 21:10:00+00:00       NaN       NaN       NaN       NaN       NaN   \n2020-12-31 21:20:00+00:00 -0.000276  0.004861 -0.000377  0.002329 -0.001917   \n2020-12-31 21:30:00+00:00  0.000111 -0.001752 -0.002967 -0.004342 -0.002517   \n2020-12-31 21:40:00+00:00 -0.000995 -0.001843 -0.001541 -0.000403  0.000597   \n2020-12-31 21:50:00+00:00  0.001161 -0.000794 -0.000149  0.001047  0.001060   \n...                             ...       ...       ...       ...       ...   \n2023-07-24 20:20:00+00:00 -0.001318  0.000038 -0.000195 -0.000676  0.001027   \n2023-07-24 20:30:00+00:00 -0.000330  0.000367 -0.000108 -0.000451 -0.001584   \n2023-07-24 20:40:00+00:00 -0.002641 -0.001161 -0.000590 -0.002823 -0.002575   \n2023-07-24 20:50:00+00:00  0.002311  0.001299  0.001169  0.001695  0.001374   \n2023-07-24 21:00:00+00:00  0.000989  0.000007  0.000341  0.000000  0.001372   \n\ncoin                            xrp  \n_time                                \n2020-12-31 21:10:00+00:00       NaN  \n2020-12-31 21:20:00+00:00  0.004450  \n2020-12-31 21:30:00+00:00 -0.004450  \n2020-12-31 21:40:00+00:00 -0.001339  \n2020-12-31 21:50:00+00:00  0.001339  \n...                             ...  \n2023-07-24 20:20:00+00:00 -0.000142  \n2023-07-24 20:30:00+00:00 -0.002697  \n2023-07-24 20:40:00+00:00 -0.004845  \n2023-07-24 20:50:00+00:00  0.002140  \n2023-07-24 21:00:00+00:00  0.000143  \n\n[134640 rows x 6 columns]",
      "text/html": "<div>\n<style scoped>\n    .dataframe tbody tr th:only-of-type {\n        vertical-align: middle;\n    }\n\n    .dataframe tbody tr th {\n        vertical-align: top;\n    }\n\n    .dataframe thead th {\n        text-align: right;\n    }\n</style>\n<table border=\"1\" class=\"dataframe\">\n  <thead>\n    <tr style=\"text-align: right;\">\n      <th>coin</th>\n      <th>ada</th>\n      <th>btc</th>\n      <th>eth</th>\n      <th>ltc</th>\n      <th>sol</th>\n      <th>xrp</th>\n    </tr>\n    <tr>\n      <th>_time</th>\n      <th></th>\n      <th></th>\n      <th></th>\n      <th></th>\n      <th></th>\n      <th></th>\n    </tr>\n  </thead>\n  <tbody>\n    <tr>\n      <th>2020-12-31 21:10:00+00:00</th>\n      <td>NaN</td>\n      <td>NaN</td>\n      <td>NaN</td>\n      <td>NaN</td>\n      <td>NaN</td>\n      <td>NaN</td>\n    </tr>\n    <tr>\n      <th>2020-12-31 21:20:00+00:00</th>\n      <td>-0.000276</td>\n      <td>0.004861</td>\n      <td>-0.000377</td>\n      <td>0.002329</td>\n      <td>-0.001917</td>\n      <td>0.004450</td>\n    </tr>\n    <tr>\n      <th>2020-12-31 21:30:00+00:00</th>\n      <td>0.000111</td>\n      <td>-0.001752</td>\n      <td>-0.002967</td>\n      <td>-0.004342</td>\n      <td>-0.002517</td>\n      <td>-0.004450</td>\n    </tr>\n    <tr>\n      <th>2020-12-31 21:40:00+00:00</th>\n      <td>-0.000995</td>\n      <td>-0.001843</td>\n      <td>-0.001541</td>\n      <td>-0.000403</td>\n      <td>0.000597</td>\n      <td>-0.001339</td>\n    </tr>\n    <tr>\n      <th>2020-12-31 21:50:00+00:00</th>\n      <td>0.001161</td>\n      <td>-0.000794</td>\n      <td>-0.000149</td>\n      <td>0.001047</td>\n      <td>0.001060</td>\n      <td>0.001339</td>\n    </tr>\n    <tr>\n      <th>...</th>\n      <td>...</td>\n      <td>...</td>\n      <td>...</td>\n      <td>...</td>\n      <td>...</td>\n      <td>...</td>\n    </tr>\n    <tr>\n      <th>2023-07-24 20:20:00+00:00</th>\n      <td>-0.001318</td>\n      <td>0.000038</td>\n      <td>-0.000195</td>\n      <td>-0.000676</td>\n      <td>0.001027</td>\n      <td>-0.000142</td>\n    </tr>\n    <tr>\n      <th>2023-07-24 20:30:00+00:00</th>\n      <td>-0.000330</td>\n      <td>0.000367</td>\n      <td>-0.000108</td>\n      <td>-0.000451</td>\n      <td>-0.001584</td>\n      <td>-0.002697</td>\n    </tr>\n    <tr>\n      <th>2023-07-24 20:40:00+00:00</th>\n      <td>-0.002641</td>\n      <td>-0.001161</td>\n      <td>-0.000590</td>\n      <td>-0.002823</td>\n      <td>-0.002575</td>\n      <td>-0.004845</td>\n    </tr>\n    <tr>\n      <th>2023-07-24 20:50:00+00:00</th>\n      <td>0.002311</td>\n      <td>0.001299</td>\n      <td>0.001169</td>\n      <td>0.001695</td>\n      <td>0.001374</td>\n      <td>0.002140</td>\n    </tr>\n    <tr>\n      <th>2023-07-24 21:00:00+00:00</th>\n      <td>0.000989</td>\n      <td>0.000007</td>\n      <td>0.000341</td>\n      <td>0.000000</td>\n      <td>0.001372</td>\n      <td>0.000143</td>\n    </tr>\n  </tbody>\n</table>\n<p>134640 rows × 6 columns</p>\n</div>"
     },
     "execution_count": 123,
     "metadata": {},
     "output_type": "execute_result"
    }
   ],
   "source": [
    "np.log1p(df.pct_change())"
   ],
   "metadata": {
    "collapsed": false,
    "pycharm": {
     "name": "#%%\n"
    }
   }
  },
  {
   "cell_type": "code",
   "execution_count": 57,
   "outputs": [],
   "source": [
    "# from statsmodels.tsa.vector_ar import vecm\n",
    "#\n",
    "# current = in_sample_normalized\n",
    "# for coin, coin_pair in tqdm(asset_pairs):\n",
    "#     ecm = vecm.VECM(in_sample_normalized[[coin,coin_pair]],deterministic='co')\n",
    "#     est = ecm.fit()\n",
    "#\n",
    "#     est.plot_forecast(4,n_last_obs=100)\n",
    "#     break"
   ],
   "metadata": {
    "collapsed": false,
    "pycharm": {
     "name": "#%%\n"
    }
   }
  },
  {
   "cell_type": "code",
   "execution_count": 66,
   "outputs": [
    {
     "name": "stderr",
     "output_type": "stream",
     "text": [
      "100%|██████████| 6/6 [00:09<00:00,  1.55s/it]\n"
     ]
    },
    {
     "data": {
      "text/plain": "  coin coin_pair        adf  p_value  critical_1%  critical_5%  critical_10%\n0  btc       ada -21.090838      0.0    -3.430632    -2.861664     -2.566836\n1  eth       ada -21.209153      0.0    -3.430632    -2.861664     -2.566836\n2  xrp       ada -22.917917      0.0    -3.430632    -2.861664     -2.566836\n3  sol       ada -21.753410      0.0    -3.430632    -2.861664     -2.566836\n4  ltc       ada -22.308619      0.0    -3.430632    -2.861664     -2.566836\n5  ada       ada -23.560308      0.0    -3.430632    -2.861664     -2.566836",
      "text/html": "<div>\n<style scoped>\n    .dataframe tbody tr th:only-of-type {\n        vertical-align: middle;\n    }\n\n    .dataframe tbody tr th {\n        vertical-align: top;\n    }\n\n    .dataframe thead th {\n        text-align: right;\n    }\n</style>\n<table border=\"1\" class=\"dataframe\">\n  <thead>\n    <tr style=\"text-align: right;\">\n      <th></th>\n      <th>coin</th>\n      <th>coin_pair</th>\n      <th>adf</th>\n      <th>p_value</th>\n      <th>critical_1%</th>\n      <th>critical_5%</th>\n      <th>critical_10%</th>\n    </tr>\n  </thead>\n  <tbody>\n    <tr>\n      <th>0</th>\n      <td>btc</td>\n      <td>ada</td>\n      <td>-21.090838</td>\n      <td>0.0</td>\n      <td>-3.430632</td>\n      <td>-2.861664</td>\n      <td>-2.566836</td>\n    </tr>\n    <tr>\n      <th>1</th>\n      <td>eth</td>\n      <td>ada</td>\n      <td>-21.209153</td>\n      <td>0.0</td>\n      <td>-3.430632</td>\n      <td>-2.861664</td>\n      <td>-2.566836</td>\n    </tr>\n    <tr>\n      <th>2</th>\n      <td>xrp</td>\n      <td>ada</td>\n      <td>-22.917917</td>\n      <td>0.0</td>\n      <td>-3.430632</td>\n      <td>-2.861664</td>\n      <td>-2.566836</td>\n    </tr>\n    <tr>\n      <th>3</th>\n      <td>sol</td>\n      <td>ada</td>\n      <td>-21.753410</td>\n      <td>0.0</td>\n      <td>-3.430632</td>\n      <td>-2.861664</td>\n      <td>-2.566836</td>\n    </tr>\n    <tr>\n      <th>4</th>\n      <td>ltc</td>\n      <td>ada</td>\n      <td>-22.308619</td>\n      <td>0.0</td>\n      <td>-3.430632</td>\n      <td>-2.861664</td>\n      <td>-2.566836</td>\n    </tr>\n    <tr>\n      <th>5</th>\n      <td>ada</td>\n      <td>ada</td>\n      <td>-23.560308</td>\n      <td>0.0</td>\n      <td>-3.430632</td>\n      <td>-2.861664</td>\n      <td>-2.566836</td>\n    </tr>\n  </tbody>\n</table>\n</div>"
     },
     "execution_count": 66,
     "metadata": {},
     "output_type": "execute_result"
    }
   ],
   "source": [
    "import statsmodels.tsa.stattools as ts\n",
    "\n",
    "adf = []\n",
    "\n",
    "current = in_sample\n",
    "\n",
    "for coin in tqdm(COINS):\n",
    "\n",
    "    asset = current[coin].pct_change().dropna()\n",
    "    adf.append(analyze_adfuller(asset))\n",
    "\n",
    "adf = pd.DataFrame(adf)\n",
    "adf"
   ],
   "metadata": {
    "collapsed": false,
    "pycharm": {
     "name": "#%%\n"
    }
   }
  },
  {
   "cell_type": "code",
   "execution_count": 53,
   "outputs": [],
   "source": [
    "# # Check, that cross-correlation is 0, means that returns are correlated without lag.\n",
    "# current = in_sample.pct_change().dropna()\n",
    "# for coin, coin_pair in tqdm(asset_pairs):\n",
    "#     asset1 = current[coin]\n",
    "#     asset2 = current[coin_pair]\n",
    "#     print(ts.ccf(asset1, asset2)[:10])"
   ],
   "metadata": {
    "collapsed": false,
    "pycharm": {
     "name": "#%%\n"
    }
   }
  },
  {
   "cell_type": "code",
   "execution_count": 36,
   "outputs": [],
   "source": [
    "# COINTEGRATED_PAIRS = [(\"btc\", \"eth\"), (\"eth\", \"xrp\"), (\"sol\", \"ada\")]\n"
   ],
   "metadata": {
    "collapsed": false,
    "pycharm": {
     "name": "#%%\n"
    }
   }
  },
  {
   "cell_type": "code",
   "execution_count": 129,
   "outputs": [
    {
     "name": "stdout",
     "output_type": "stream",
     "text": [
      "('btc', 'eth') (14.892104590454228, 13.4294) (12.193412685250218, 12.2971)\n",
      "('btc', 'sol') (17.166828463180533, 13.4294) (15.450100324975969, 12.2971)\n",
      "('btc', 'ltc') (13.375162743902056, 13.4294) (8.415952370911832, 12.2971)\n",
      "('eth', 'xrp') (17.08177684428563, 13.4294) (12.25910157828965, 12.2971)\n",
      "('eth', 'sol') (17.03808367235952, 13.4294) (13.133843682033092, 12.2971)\n",
      "('eth', 'ltc') (13.547022989111618, 13.4294) (8.210496236240326, 12.2971)\n",
      "('xrp', 'sol') (21.176272543241584, 13.4294) (16.7901678426067, 12.2971)\n",
      "('xrp', 'ada') (12.156074207166446, 13.4294) (7.445650266737896, 12.2971)\n",
      "('sol', 'ltc') (15.10566527285638, 13.4294) (12.285121906512021, 12.2971)\n",
      "('sol', 'ada') (36.8885315810973, 13.4294) (27.830852136440864, 12.2971)\n"
     ]
    }
   ],
   "source": [
    "import statsmodels.tsa.vector_ar.vecm as vecm\n",
    "lag_order = 1\n",
    "\n",
    "def analyze_adfuller(series):\n",
    "    result = ts.adfuller(series)\n",
    "    return dict(zip(\n",
    "        ['coin', 'coin_pair', 'adf', 'p_value', 'critical_1%', 'critical_5%', 'critical_10%'],\n",
    "        [coin, coin_pair, result[0], result[1], *result[4].values()]\n",
    "    ))\n",
    "\n",
    "# current = in_sample_detrended\n",
    "current = in_sample\n",
    "for coin, coin_pair in asset_pairs:\n",
    "\n",
    "    pair_ = current[[coin, coin_pair]]\n",
    "\n",
    "    # Calculate spread\n",
    "    johansen_test = vecm.coint_johansen(pair_, det_order=0, k_ar_diff=lag_order)\n",
    "    if johansen_test.lr1[0] > 0.9 * johansen_test.cvt[0][0]:\n",
    "        print((coin, coin_pair), (johansen_test.lr1[0], johansen_test.cvt[0][0]), (johansen_test.lr2[0], johansen_test.cvm[0][0]))\n",
    "        # print(f\"PAIR ({coin}-{coin_pair})\")\n",
    "        # print(f'Trace statistics: {johansen_test.lr1}')\n",
    "        # print(f'Critical values of trace statistics: {johansen_test.cvt}')\n",
    "        # print(f'Max eigenvalue statistics: {johansen_test.lr2}')\n",
    "        # print(f'Critical values of max eigenvalue statistics: {johansen_test.cvm}')\n",
    "        # print('____________________')\n",
    "    #\n",
    "    # # print(result[4])\n",
    "    # adf.append([coin, coin_pair, result[0], result[1], *result[4].values()])\n",
    "    #\n"
   ],
   "metadata": {
    "collapsed": false,
    "pycharm": {
     "name": "#%%\n"
    }
   }
  },
  {
   "cell_type": "code",
   "execution_count": null,
   "outputs": [],
   "source": [
    "\"\"\"\n",
    "btc-eth ?\n",
    "btc-sol\n",
    "\n",
    "eth-xrp ?\n",
    "\"\"\""
   ],
   "metadata": {
    "collapsed": false,
    "pycharm": {
     "name": "#%%\n"
    }
   }
  },
  {
   "cell_type": "code",
   "execution_count": null,
   "outputs": [],
   "source": [],
   "metadata": {
    "collapsed": false,
    "pycharm": {
     "name": "#%%\n"
    }
   }
  },
  {
   "cell_type": "code",
   "execution_count": 107,
   "outputs": [
    {
     "name": "stdout",
     "output_type": "stream",
     "text": [
      "Trace statistics: [29.52684874 12.0836165 ]\n",
      "Critical values of trace statistics: [[13.4294 15.4943 19.9349]\n",
      " [ 2.7055  3.8415  6.6349]]\n",
      "Max eigenvalue statistics: [17.44323224 12.0836165 ]\n",
      "Critical values of max eigenvalue statistics: [[12.2971 14.2639 18.52  ]\n",
      " [ 2.7055  3.8415  6.6349]]\n",
      "____________________\n"
     ]
    }
   ],
   "source": [
    "# d = in_sample[['sol', 'ada']]\n",
    "ddd = in_sample[['btc', 'eth']]\n",
    "d = ddd - ddd.rolling('30D').mean()\n",
    "# d = in_sample[['eth', 'sol', 'ada']]\n",
    "\n",
    "# Calculate spread\n",
    "johansen_test = vecm.coint_johansen(d, det_order=0, k_ar_diff=lag_order)\n",
    "print(f'Trace statistics: {johansen_test.lr1}')\n",
    "print(f'Critical values of trace statistics: {johansen_test.cvt}')\n",
    "print(f'Max eigenvalue statistics: {johansen_test.lr2}')\n",
    "print(f'Critical values of max eigenvalue statistics: {johansen_test.cvm}')\n",
    "print('____________________')"
   ],
   "metadata": {
    "collapsed": false,
    "pycharm": {
     "name": "#%%\n"
    }
   }
  },
  {
   "cell_type": "code",
   "execution_count": 110,
   "outputs": [
    {
     "data": {
      "text/plain": "{'coin': 'ltc',\n 'coin_pair': 'ada',\n 'adf': -4.159277564697932,\n 'p_value': 0.0007716579914209437,\n 'critical_1%': -3.430631254979239,\n 'critical_5%': -2.8616643057737963,\n 'critical_10%': -2.566836164400362}"
     },
     "execution_count": 110,
     "metadata": {},
     "output_type": "execute_result"
    }
   ],
   "source": [
    "cointegrating_vector = johansen_test.evec[:, 0]\n",
    "stat_portfolio = d.dot(cointegrating_vector)\n",
    "analyze_adfuller(stat_portfolio)"
   ],
   "metadata": {
    "collapsed": false,
    "pycharm": {
     "name": "#%%\n"
    }
   }
  },
  {
   "cell_type": "code",
   "execution_count": 126,
   "outputs": [
    {
     "data": {
      "text/plain": "<Axes: xlabel='_time'>"
     },
     "execution_count": 126,
     "metadata": {},
     "output_type": "execute_result"
    },
    {
     "data": {
      "text/plain": "<Figure size 640x480 with 1 Axes>",
      "image/png": "[encoded data removed]"
     },
     "metadata": {},
     "output_type": "display_data"
    }
   ],
   "source": [
    "total = df[['btc', 'eth']]\n",
    "total = total - total.rolling('30D').mean()\n",
    "stationary = total.dot(cointegrating_vector)\n",
    "\n",
    "stationary_mean = stationary.rolling('30d').mean()\n",
    "stationary_std = stationary.rolling('30d').std()\n",
    "\n",
    "stationary_normalized = (stationary - stationary_mean) / stationary_std\n",
    "# stationary_normalized[stationary_normalized.index >= TO_DATE].plot()\n",
    "stationary_normalized[stationary_normalized.index >= TO_DATE].plot()\n",
    "# stationary_normalized.plot()"
   ],
   "metadata": {
    "collapsed": false,
    "pycharm": {
     "name": "#%%\n"
    }
   }
  },
  {
   "cell_type": "code",
   "execution_count": 127,
   "outputs": [
    {
     "data": {
      "text/plain": "5.380119272107866"
     },
     "execution_count": 127,
     "metadata": {},
     "output_type": "execute_result"
    }
   ],
   "source": [
    "stationary_normalized.max()"
   ],
   "metadata": {
    "collapsed": false,
    "pycharm": {
     "name": "#%%\n"
    }
   }
  },
  {
   "cell_type": "code",
   "execution_count": 115,
   "outputs": [
    {
     "data": {
      "text/plain": "<Axes: xlabel='_time'>"
     },
     "execution_count": 115,
     "metadata": {},
     "output_type": "execute_result"
    },
    {
     "data": {
      "text/plain": "<Figure size 640x480 with 1 Axes>",
      "image/png": "[encoded data removed]"
     },
     "metadata": {},
     "output_type": "display_data"
    }
   ],
   "source": [
    "\"\"\"\n",
    "SOL - ADA\n",
    "BTC - ETH\n",
    "ETH - XRP\n",
    "\"\"\"\n",
    "\n"
   ],
   "metadata": {
    "collapsed": false,
    "pycharm": {
     "name": "#%%\n"
    }
   }
  },
  {
   "cell_type": "code",
   "execution_count": 28,
   "outputs": [
    {
     "name": "stdout",
     "output_type": "stream",
     "text": [
      "Eigenvalues (trace statistic):\n",
      " [84.26729759 49.06834435 27.09366644 16.98423205  9.03836655  2.97939849]\n",
      "Trace statistics:\n",
      " [95.7542 69.8189 47.8545 29.7961 15.4943  3.8415]\n",
      "Critical values (90%, 95%, 99%):\n",
      " [[ 91.109   95.7542 104.9637]\n",
      " [ 65.8202  69.8189  77.8202]\n",
      " [ 44.4929  47.8545  54.6815]\n",
      " [ 27.0669  29.7961  35.4628]\n",
      " [ 13.4294  15.4943  19.9349]\n",
      " [  2.7055   3.8415   6.6349]]\n"
     ]
    }
   ],
   "source": [
    "print(\"Eigenvalues (trace statistic):\\n\", johansen_test.lr1)\n",
    "print(\"Trace statistics:\\n\", johansen_test.cvt[:, 1])  # 5% critical value\n",
    "print(\"Critical values (90%, 95%, 99%):\\n\", johansen_test.cvt)"
   ],
   "metadata": {
    "collapsed": false,
    "pycharm": {
     "name": "#%%\n"
    }
   }
  },
  {
   "cell_type": "code",
   "execution_count": 54,
   "outputs": [
    {
     "data": {
      "text/plain": "  coin coin_pair        adf  p_value  critical_1%  critical_5%  critical_10%\n0  btc       ada -21.090838      0.0    -3.430632    -2.861664     -2.566836\n1  eth       ada -21.209153      0.0    -3.430632    -2.861664     -2.566836\n2  xrp       ada -22.917917      0.0    -3.430632    -2.861664     -2.566836\n3  sol       ada -21.753410      0.0    -3.430632    -2.861664     -2.566836\n4  ltc       ada -22.308619      0.0    -3.430632    -2.861664     -2.566836\n5  ada       ada -23.560308      0.0    -3.430632    -2.861664     -2.566836",
      "text/html": "<div>\n<style scoped>\n    .dataframe tbody tr th:only-of-type {\n        vertical-align: middle;\n    }\n\n    .dataframe tbody tr th {\n        vertical-align: top;\n    }\n\n    .dataframe thead th {\n        text-align: right;\n    }\n</style>\n<table border=\"1\" class=\"dataframe\">\n  <thead>\n    <tr style=\"text-align: right;\">\n      <th></th>\n      <th>coin</th>\n      <th>coin_pair</th>\n      <th>adf</th>\n      <th>p_value</th>\n      <th>critical_1%</th>\n      <th>critical_5%</th>\n      <th>critical_10%</th>\n    </tr>\n  </thead>\n  <tbody>\n    <tr>\n      <th>0</th>\n      <td>btc</td>\n      <td>ada</td>\n      <td>-21.090838</td>\n      <td>0.0</td>\n      <td>-3.430632</td>\n      <td>-2.861664</td>\n      <td>-2.566836</td>\n    </tr>\n    <tr>\n      <th>1</th>\n      <td>eth</td>\n      <td>ada</td>\n      <td>-21.209153</td>\n      <td>0.0</td>\n      <td>-3.430632</td>\n      <td>-2.861664</td>\n      <td>-2.566836</td>\n    </tr>\n    <tr>\n      <th>2</th>\n      <td>xrp</td>\n      <td>ada</td>\n      <td>-22.917917</td>\n      <td>0.0</td>\n      <td>-3.430632</td>\n      <td>-2.861664</td>\n      <td>-2.566836</td>\n    </tr>\n    <tr>\n      <th>3</th>\n      <td>sol</td>\n      <td>ada</td>\n      <td>-21.753410</td>\n      <td>0.0</td>\n      <td>-3.430632</td>\n      <td>-2.861664</td>\n      <td>-2.566836</td>\n    </tr>\n    <tr>\n      <th>4</th>\n      <td>ltc</td>\n      <td>ada</td>\n      <td>-22.308619</td>\n      <td>0.0</td>\n      <td>-3.430632</td>\n      <td>-2.861664</td>\n      <td>-2.566836</td>\n    </tr>\n    <tr>\n      <th>5</th>\n      <td>ada</td>\n      <td>ada</td>\n      <td>-23.560308</td>\n      <td>0.0</td>\n      <td>-3.430632</td>\n      <td>-2.861664</td>\n      <td>-2.566836</td>\n    </tr>\n  </tbody>\n</table>\n</div>"
     },
     "execution_count": 54,
     "metadata": {},
     "output_type": "execute_result"
    }
   ],
   "source": [
    "adf"
   ],
   "metadata": {
    "collapsed": false,
    "pycharm": {
     "name": "#%%\n"
    }
   }
  },
  {
   "cell_type": "code",
   "execution_count": 71,
   "outputs": [
    {
     "name": "stderr",
     "output_type": "stream",
     "text": [
      "100%|██████████| 15/15 [00:00<00:00, 222.26it/s]\n"
     ]
    }
   ],
   "source": [
    "# \"\"\"\n",
    "\n",
    "# \"\"\"\n",
    "# from statsmodels.stats.stattools import durbin_watson\n",
    "# from scipy import stats\n",
    "# from statsmodels.stats.diagnostic import linear_rainbow, het_breuschpagan\n",
    "# from statsmodels.compat import lzip\n",
    "#\n",
    "# correctness = []\n",
    "# # Perform the Rainbow test for linearity\n",
    "# for coin, coin_pair in tqdm(asset_pairs):\n",
    "#     result = results[coin, coin_pair]\n",
    "#     rainbow_stat, rainbow_p_value = linear_rainbow(result)\n",
    "#     dw = durbin_watson(result.resid)\n",
    "#\n",
    "#     labels = []\n",
    "#     l_mul = het_breuschpagan(result.resid, result.model.exog)\n",
    "#     jb = stats.jarque_bera(result.resid)\n",
    "#\n",
    "#     correctness.append((coin, coin_pair, rainbow_stat, rainbow_p_value, dw, *l_mul, jb[0], jb[1]))\n",
    "#\n",
    "# correctness = pd.DataFrame(\n",
    "#     correctness,\n",
    "#     columns=['coin', 'coin_pair', 'rainbow_stat', 'rainbow_p_value', 'durbin_watson', 'l_mul_statistic', 'l_mul_value', 'l_mul_f_value', 'l_mul_p_value', 'jarque_bera_stat', 'jarque_bera_p_value']\n",
    "# )\n",
    "#\n",
    "# # correctness"
   ],
   "metadata": {
    "collapsed": false,
    "pycharm": {
     "name": "#%%\n"
    }
   }
  },
  {
   "cell_type": "code",
   "execution_count": 90,
   "outputs": [
    {
     "data": {
      "text/plain": "_time\n2022-01-31 00:00:00+00:00    13.570325\n2022-02-28 00:00:00+00:00    14.198567\n2022-03-31 00:00:00+00:00    14.630218\n2022-04-30 00:00:00+00:00    13.394777\n2022-05-31 00:00:00+00:00    14.585113\n2022-06-30 00:00:00+00:00    17.801642\n2022-07-31 00:00:00+00:00    16.245578\n2022-08-31 00:00:00+00:00    13.202167\n2022-09-30 00:00:00+00:00    13.413860\n2022-10-31 00:00:00+00:00    14.433662\n2022-11-30 00:00:00+00:00    13.575916\n2022-12-31 00:00:00+00:00    13.702315\n2023-01-31 00:00:00+00:00    13.753105\n2023-02-28 00:00:00+00:00    14.336698\n2023-03-31 00:00:00+00:00    14.929548\n2023-04-30 00:00:00+00:00    15.053599\nFreq: M, dtype: float64"
     },
     "execution_count": 90,
     "metadata": {},
     "output_type": "execute_result"
    }
   ],
   "source": [
    "(in_sample['btc'] / in_sample['eth']).resample('M').mean()"
   ],
   "metadata": {
    "collapsed": false,
    "pycharm": {
     "name": "#%%\n"
    }
   }
  },
  {
   "cell_type": "code",
   "execution_count": 97,
   "outputs": [
    {
     "data": {
      "text/plain": "coin                            ada          btc         eth        ltc  \\\n_time                                                                     \n2022-01-09 08:00:00+00:00 -0.110373 -3070.039526 -433.861097 -12.006469   \n2022-01-09 09:00:00+00:00 -0.117329 -3144.201518 -443.737410 -12.367963   \n2022-01-09 10:00:00+00:00 -0.123996 -3255.102644 -454.315301 -12.706745   \n2022-01-09 11:00:00+00:00 -0.127367 -3295.041889 -460.096927 -12.764720   \n2022-01-09 12:00:00+00:00 -0.120550 -3023.699484 -434.118247 -11.833261   \n...                             ...          ...         ...        ...   \n2023-04-30 19:00:00+00:00  0.003391   787.229884    3.812206  -2.013279   \n2023-04-30 20:00:00+00:00 -0.001733   551.227139  -11.358747  -2.931231   \n2023-04-30 21:00:00+00:00 -0.007386   451.202669  -27.562331  -3.817438   \n2023-04-30 22:00:00+00:00 -0.006341   581.263572  -23.013731  -3.419303   \n2023-04-30 23:00:00+00:00 -0.005558   565.688412  -23.849663  -3.408554   \n\ncoin                             sol       xrp  \n_time                                           \n2022-01-09 08:00:00+00:00 -19.628404 -0.055158  \n2022-01-09 09:00:00+00:00 -20.534896 -0.057610  \n2022-01-09 10:00:00+00:00 -21.194285 -0.059990  \n2022-01-09 11:00:00+00:00 -21.329195 -0.060613  \n2022-01-09 12:00:00+00:00 -19.834323 -0.055069  \n...                              ...       ...  \n2023-04-30 19:00:00+00:00   1.254731 -0.017273  \n2023-04-30 20:00:00+00:00   0.984518 -0.020315  \n2023-04-30 21:00:00+00:00   0.836078 -0.024386  \n2023-04-30 22:00:00+00:00   0.855009 -0.022091  \n2023-04-30 23:00:00+00:00   0.874898 -0.022682  \n\n[11440 rows x 6 columns]",
      "text/html": "<div>\n<style scoped>\n    .dataframe tbody tr th:only-of-type {\n        vertical-align: middle;\n    }\n\n    .dataframe tbody tr th {\n        vertical-align: top;\n    }\n\n    .dataframe thead th {\n        text-align: right;\n    }\n</style>\n<table border=\"1\" class=\"dataframe\">\n  <thead>\n    <tr style=\"text-align: right;\">\n      <th>coin</th>\n      <th>ada</th>\n      <th>btc</th>\n      <th>eth</th>\n      <th>ltc</th>\n      <th>sol</th>\n      <th>xrp</th>\n    </tr>\n    <tr>\n      <th>_time</th>\n      <th></th>\n      <th></th>\n      <th></th>\n      <th></th>\n      <th></th>\n      <th></th>\n    </tr>\n  </thead>\n  <tbody>\n    <tr>\n      <th>2022-01-09 08:00:00+00:00</th>\n      <td>-0.110373</td>\n      <td>-3070.039526</td>\n      <td>-433.861097</td>\n      <td>-12.006469</td>\n      <td>-19.628404</td>\n      <td>-0.055158</td>\n    </tr>\n    <tr>\n      <th>2022-01-09 09:00:00+00:00</th>\n      <td>-0.117329</td>\n      <td>-3144.201518</td>\n      <td>-443.737410</td>\n      <td>-12.367963</td>\n      <td>-20.534896</td>\n      <td>-0.057610</td>\n    </tr>\n    <tr>\n      <th>2022-01-09 10:00:00+00:00</th>\n      <td>-0.123996</td>\n      <td>-3255.102644</td>\n      <td>-454.315301</td>\n      <td>-12.706745</td>\n      <td>-21.194285</td>\n      <td>-0.059990</td>\n    </tr>\n    <tr>\n      <th>2022-01-09 11:00:00+00:00</th>\n      <td>-0.127367</td>\n      <td>-3295.041889</td>\n      <td>-460.096927</td>\n      <td>-12.764720</td>\n      <td>-21.329195</td>\n      <td>-0.060613</td>\n    </tr>\n    <tr>\n      <th>2022-01-09 12:00:00+00:00</th>\n      <td>-0.120550</td>\n      <td>-3023.699484</td>\n      <td>-434.118247</td>\n      <td>-11.833261</td>\n      <td>-19.834323</td>\n      <td>-0.055069</td>\n    </tr>\n    <tr>\n      <th>...</th>\n      <td>...</td>\n      <td>...</td>\n      <td>...</td>\n      <td>...</td>\n      <td>...</td>\n      <td>...</td>\n    </tr>\n    <tr>\n      <th>2023-04-30 19:00:00+00:00</th>\n      <td>0.003391</td>\n      <td>787.229884</td>\n      <td>3.812206</td>\n      <td>-2.013279</td>\n      <td>1.254731</td>\n      <td>-0.017273</td>\n    </tr>\n    <tr>\n      <th>2023-04-30 20:00:00+00:00</th>\n      <td>-0.001733</td>\n      <td>551.227139</td>\n      <td>-11.358747</td>\n      <td>-2.931231</td>\n      <td>0.984518</td>\n      <td>-0.020315</td>\n    </tr>\n    <tr>\n      <th>2023-04-30 21:00:00+00:00</th>\n      <td>-0.007386</td>\n      <td>451.202669</td>\n      <td>-27.562331</td>\n      <td>-3.817438</td>\n      <td>0.836078</td>\n      <td>-0.024386</td>\n    </tr>\n    <tr>\n      <th>2023-04-30 22:00:00+00:00</th>\n      <td>-0.006341</td>\n      <td>581.263572</td>\n      <td>-23.013731</td>\n      <td>-3.419303</td>\n      <td>0.855009</td>\n      <td>-0.022091</td>\n    </tr>\n    <tr>\n      <th>2023-04-30 23:00:00+00:00</th>\n      <td>-0.005558</td>\n      <td>565.688412</td>\n      <td>-23.849663</td>\n      <td>-3.408554</td>\n      <td>0.874898</td>\n      <td>-0.022682</td>\n    </tr>\n  </tbody>\n</table>\n<p>11440 rows × 6 columns</p>\n</div>"
     },
     "execution_count": 97,
     "metadata": {},
     "output_type": "execute_result"
    }
   ],
   "source": [
    "in_sample_detrended = in_sample - in_sample.rolling(window='30d', min_periods=200).mean()\n",
    "in_sample_detrended = in_sample_detrended.dropna()\n",
    "in_sample_detrended"
   ],
   "metadata": {
    "collapsed": false,
    "pycharm": {
     "name": "#%%\n"
    }
   }
  },
  {
   "cell_type": "code",
   "execution_count": null,
   "outputs": [],
   "source": [],
   "metadata": {
    "collapsed": false,
    "pycharm": {
     "name": "#%%\n"
    }
   }
  }
 ],
 "metadata": {
  "kernelspec": {
   "display_name": "Python 3",
   "language": "python",
   "name": "python3"
  },
  "language_info": {
   "codemirror_mode": {
    "name": "ipython",
    "version": 2
   },
   "file_extension": ".py",
   "mimetype": "text/x-python",
   "name": "python",
   "nbconvert_exporter": "python",
   "pygments_lexer": "ipython2",
   "version": "2.7.6"
  }
 },
 "nbformat": 4,
 "nbformat_minor": 0
}
