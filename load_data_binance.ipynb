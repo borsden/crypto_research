{
 "cells": [
  {
   "cell_type": "code",
   "execution_count": 3,
   "outputs": [],
   "source": [
    "%load_ext autoreload\n",
    "%autoreload 2"
   ],
   "metadata": {
    "collapsed": false,
    "pycharm": {
     "name": "#%%\n"
    },
    "ExecuteTime": {
     "end_time": "2023-12-12T04:21:11.302522Z",
     "start_time": "2023-12-12T04:21:11.268129Z"
    }
   }
  },
  {
   "cell_type": "code",
   "execution_count": 4,
   "outputs": [],
   "source": [
    "from crypto_research.binance.loader import get_all_trading_pairs, get_half_year_volumes, get_historical_klines,get_trading_pairs_existing_at\n",
    "from datetime import datetime, timedelta\n",
    "from crypto_research.influx.constants import FUTURES_BUCKET\n",
    "from crypto_research.influx.saver import save_klines_influxdb\n",
    "\n",
    "from crypto_research.influx.internal import create_bucket\n",
    "from binance.enums import KLINE_INTERVAL_1DAY, KLINE_INTERVAL_1HOUR, KLINE_INTERVAL_5MINUTE\n",
    "\n",
    "import pandas as pd"
   ],
   "metadata": {
    "collapsed": false,
    "ExecuteTime": {
     "end_time": "2023-12-12T04:21:13.241735Z",
     "start_time": "2023-12-12T04:21:11.979483Z"
    }
   }
  },
  {
   "cell_type": "code",
   "execution_count": 3,
   "outputs": [
    {
     "name": "stderr",
     "output_type": "stream",
     "text": [
      "100%|██████████| 247/247 [00:05<00:00, 43.35it/s] \n",
      "100%|██████████| 129/129 [00:03<00:00, 33.62it/s]\n"
     ]
    }
   ],
   "source": [
    "\n",
    "trading_pairs_all = await get_all_trading_pairs(usdt_only=True)\n",
    "trading_pairs_filtered_history = await get_trading_pairs_existing_at(trading_pairs_all)\n",
    "trading_pairs_volumes = await get_half_year_volumes(trading_pairs_filtered_history)\n",
    "\n",
    "# Select {SELECTED_NUMBER} trading pairs with highest trading volume in 6 month\n",
    "SELECTED_NUMBER = 50\n",
    "selected_pairs = list(trading_pairs_volumes[:SELECTED_NUMBER].index)"
   ],
   "metadata": {
    "collapsed": false,
    "ExecuteTime": {
     "end_time": "2023-12-11T06:54:39.340892Z",
     "start_time": "2023-12-11T06:54:20.198016Z"
    }
   }
  },
  {
   "cell_type": "code",
   "execution_count": 6,
   "outputs": [
    {
     "data": {
      "text/plain": "['aaveusdt',\n 'unfiusdt',\n 'dydxusdt',\n 'kncusdt',\n 'trxusdt',\n 'axsusdt',\n 'ltcusdt',\n 'nearusdt',\n 'maskusdt',\n 'trbusdt',\n 'galausdt',\n 'bakeusdt',\n 'tomousdt',\n 'xrpusdt',\n 'ognusdt',\n 'ethusdt',\n '1000shibusdt',\n 'adausdt',\n 'linausdt',\n 'uniusdt',\n 'etcusdt',\n 'ftmusdt',\n 'sushiusdt',\n 'solusdt',\n 'runeusdt',\n 'blzusdt',\n 'maticusdt',\n 'btcusdt',\n 'mtlusdt',\n 'filusdt',\n 'snxusdt',\n 'hbarusdt',\n 'bchusdt',\n 'atomusdt',\n 'stmxusdt',\n 'sandusdt',\n 'mkrusdt',\n 'xlmusdt',\n 'bnbusdt',\n 'crvusdt',\n 'compusdt',\n 'zrxusdt',\n 'lptusdt',\n 'dotusdt',\n 'dogeusdt',\n 'eosusdt',\n 'linkusdt',\n 'storjusdt',\n 'avaxusdt',\n 'wavesusdt']"
     },
     "execution_count": 6,
     "metadata": {},
     "output_type": "execute_result"
    }
   ],
   "source": [
    "# from crypto_research.influx.loader import get_klines_pairs, get_klines\n",
    "# \n",
    "# selected_pairs = list(await get_klines_pairs(interval=KLINE_INTERVAL_1HOUR))"
   ],
   "metadata": {
    "collapsed": false,
    "ExecuteTime": {
     "end_time": "2023-12-12T04:22:33.051457Z",
     "start_time": "2023-12-12T04:22:32.965572Z"
    }
   }
  },
  {
   "cell_type": "code",
   "execution_count": 12,
   "outputs": [
    {
     "name": "stdout",
     "output_type": "stream",
     "text": [
      "2021-12-13 12:23:43.329774 2020-12-11 12:23:43.329774\n"
     ]
    }
   ],
   "source": [
    "end = datetime.now() - timedelta(days=1)\n",
    "# end = end - timedelta(days=365//2 - 5)\n",
    "start = end - timedelta(days=365 * 2)\n",
    "\n",
    "# \n",
    "# start = end - timedelta(days=365 * 3)\n",
    "# end = end - timedelta(days=(365 * 2 - 2))\n",
    "# \n",
    "# \n",
    "# print(end, start)"
   ],
   "metadata": {
    "collapsed": false,
    "pycharm": {
     "name": "#%%\n"
    },
    "ExecuteTime": {
     "end_time": "2023-12-12T04:23:43.336472Z",
     "start_time": "2023-12-12T04:23:43.315220Z"
    }
   }
  },
  {
   "cell_type": "code",
   "execution_count": 13,
   "outputs": [
    {
     "name": "stderr",
     "output_type": "stream",
     "text": [
      "\u001B[32m2023-12-12 12:23:48.762\u001B[0m | \u001B[1mINFO    \u001B[0m | \u001B[36mcrypto_research.influx.internal\u001B[0m:\u001B[36mcreate_bucket\u001B[0m:\u001B[36m26\u001B[0m - \u001B[1mBucket FUTURES already exists.\u001B[0m\n",
      "  2%|▏         | 353/15800 [00:34<25:22, 10.15it/s]\n",
      "  8%|▊         | 440/5300 [00:40<07:30, 10.79it/s]\n"
     ]
    },
    {
     "ename": "CancelledError",
     "evalue": "",
     "output_type": "error",
     "traceback": [
      "\u001B[0;31m---------------------------------------------------------------------------\u001B[0m",
      "\u001B[0;31mCancelledError\u001B[0m                            Traceback (most recent call last)",
      "Cell \u001B[0;32mIn[13], line 7\u001B[0m\n\u001B[1;32m      3\u001B[0m data_generator \u001B[38;5;241m=\u001B[39m \u001B[38;5;28;01mawait\u001B[39;00m get_historical_klines(\u001B[38;5;241m*\u001B[39mselected_pairs, start\u001B[38;5;241m=\u001B[39mstart, end\u001B[38;5;241m=\u001B[39mend, interval\u001B[38;5;241m=\u001B[39mKLINE_INTERVAL_5MINUTE, rate_limit_weight\u001B[38;5;241m=\u001B[39m\u001B[38;5;241m2200\u001B[39m)\n\u001B[1;32m      5\u001B[0m errors \u001B[38;5;241m=\u001B[39m []\n\u001B[0;32m----> 7\u001B[0m \u001B[38;5;28;01masync\u001B[39;00m \u001B[38;5;28;01mfor\u001B[39;00m data_batch \u001B[38;5;129;01min\u001B[39;00m data_generator:\n\u001B[1;32m      8\u001B[0m     \u001B[38;5;28;01mawait\u001B[39;00m save_klines_influxdb(data_batch, interval\u001B[38;5;241m=\u001B[39mKLINE_INTERVAL_5MINUTE, bucket\u001B[38;5;241m=\u001B[39mFUTURES_BUCKET)\n",
      "File \u001B[0;32m~/Projects/crypto_research/crypto_research/binance/loader.py:131\u001B[0m, in \u001B[0;36mget_historical_klines.<locals>.get_data\u001B[0;34m()\u001B[0m\n\u001B[1;32m    129\u001B[0m batches \u001B[38;5;241m=\u001B[39m \u001B[38;5;28mlist\u001B[39m(split_into_batches())\n\u001B[1;32m    130\u001B[0m errors \u001B[38;5;241m=\u001B[39m []\n\u001B[0;32m--> 131\u001B[0m \u001B[38;5;28;01masync\u001B[39;00m \u001B[38;5;28;01mfor\u001B[39;00m batch_result \u001B[38;5;129;01min\u001B[39;00m get_data_batches(batches):\n\u001B[1;32m    132\u001B[0m     \u001B[38;5;28;01mif\u001B[39;00m \u001B[38;5;28misinstance\u001B[39m(batch_result, \u001B[38;5;167;01mException\u001B[39;00m):\n\u001B[1;32m    133\u001B[0m         errors\u001B[38;5;241m.\u001B[39mappend(batch_result)\n",
      "File \u001B[0;32m~/Projects/crypto_research/crypto_research/binance/loader.py:120\u001B[0m, in \u001B[0;36mget_historical_klines.<locals>.get_data_batches\u001B[0;34m(batches)\u001B[0m\n\u001B[1;32m    118\u001B[0m \u001B[38;5;28;01mfor\u001B[39;00m task, batch \u001B[38;5;129;01min\u001B[39;00m \u001B[38;5;28mzip\u001B[39m(tasks_iterator, batches):\n\u001B[1;32m    119\u001B[0m     \u001B[38;5;28;01mtry\u001B[39;00m:\n\u001B[0;32m--> 120\u001B[0m         result \u001B[38;5;241m=\u001B[39m \u001B[38;5;28;01mawait\u001B[39;00m task\n\u001B[1;32m    121\u001B[0m         \u001B[38;5;28;01myield\u001B[39;00m result\n\u001B[1;32m    122\u001B[0m     \u001B[38;5;28;01mexcept\u001B[39;00m \u001B[38;5;167;01mException\u001B[39;00m \u001B[38;5;28;01mas\u001B[39;00m e:\n\u001B[1;32m    123\u001B[0m         \u001B[38;5;66;03m# Todo: refactor this.\u001B[39;00m\n",
      "File \u001B[0;32m~/miniconda3/envs/crypto_research/lib/python3.10/asyncio/tasks.py:567\u001B[0m, in \u001B[0;36mas_completed.<locals>._wait_for_one\u001B[0;34m()\u001B[0m\n\u001B[1;32m    566\u001B[0m \u001B[38;5;28;01masync\u001B[39;00m \u001B[38;5;28;01mdef\u001B[39;00m \u001B[38;5;21m_wait_for_one\u001B[39m():\n\u001B[0;32m--> 567\u001B[0m     f \u001B[38;5;241m=\u001B[39m \u001B[38;5;28;01mawait\u001B[39;00m done\u001B[38;5;241m.\u001B[39mget()\n\u001B[1;32m    568\u001B[0m     \u001B[38;5;28;01mif\u001B[39;00m f \u001B[38;5;129;01mis\u001B[39;00m \u001B[38;5;28;01mNone\u001B[39;00m:\n\u001B[1;32m    569\u001B[0m         \u001B[38;5;66;03m# Dummy value from _on_timeout().\u001B[39;00m\n\u001B[1;32m    570\u001B[0m         \u001B[38;5;28;01mraise\u001B[39;00m exceptions\u001B[38;5;241m.\u001B[39mTimeoutError\n",
      "File \u001B[0;32m~/miniconda3/envs/crypto_research/lib/python3.10/asyncio/queues.py:159\u001B[0m, in \u001B[0;36mQueue.get\u001B[0;34m(self)\u001B[0m\n\u001B[1;32m    157\u001B[0m \u001B[38;5;28mself\u001B[39m\u001B[38;5;241m.\u001B[39m_getters\u001B[38;5;241m.\u001B[39mappend(getter)\n\u001B[1;32m    158\u001B[0m \u001B[38;5;28;01mtry\u001B[39;00m:\n\u001B[0;32m--> 159\u001B[0m     \u001B[38;5;28;01mawait\u001B[39;00m getter\n\u001B[1;32m    160\u001B[0m \u001B[38;5;28;01mexcept\u001B[39;00m:\n\u001B[1;32m    161\u001B[0m     getter\u001B[38;5;241m.\u001B[39mcancel()  \u001B[38;5;66;03m# Just in case getter is not done yet.\u001B[39;00m\n",
      "\u001B[0;31mCancelledError\u001B[0m: "
     ]
    }
   ],
   "source": [
    "# await create_bucket(bucket=FUTURES_BUCKET)\n",
    "# \n",
    "# data_generator = await get_historical_klines(*selected_pairs, start=start, end=end, interval=KLINE_INTERVAL_5MINUTE, rate_limit_weight=2200)\n",
    "# \n",
    "# errors = []\n",
    "# \n",
    "# async for data_batch in data_generator:\n",
    "#     await save_klines_influxdb(data_batch, interval=KLINE_INTERVAL_5MINUTE, bucket=FUTURES_BUCKET)\n"
   ],
   "metadata": {
    "collapsed": false,
    "ExecuteTime": {
     "end_time": "2023-12-12T04:24:31.379594Z",
     "start_time": "2023-12-12T04:23:48.739607Z"
    }
   }
  },
  {
   "cell_type": "code",
   "execution_count": 18,
   "outputs": [
    {
     "name": "stderr",
     "output_type": "stream",
     "text": [
      "\u001B[32m2023-12-12 12:45:27.105\u001B[0m | \u001B[1mINFO    \u001B[0m | \u001B[36mcrypto_research.influx.internal\u001B[0m:\u001B[36mcreate_bucket\u001B[0m:\u001B[36m26\u001B[0m - \u001B[1mBucket FUTURES already exists.\u001B[0m\n",
      "100%|██████████| 450/450 [01:06<00:00,  6.77it/s]\n",
      "INFO:binance:There are 6 failed requests. Retrying 1/3...\n",
      "100%|██████████| 6/6 [00:04<00:00,  1.35it/s]\n"
     ]
    }
   ],
   "source": [
    "await create_bucket(bucket=FUTURES_BUCKET)\n",
    "\n",
    "interval = '1h'\n",
    "data_generator = await get_historical_klines(*selected_pairs, start=start, end=end, interval=interval, rate_limit_weight=2200)\n",
    "\n",
    "errors = []\n",
    "\n",
    "async for data_batch in data_generator:\n",
    "    await save_klines_influxdb(data_batch, interval=interval, bucket=FUTURES_BUCKET)\n"
   ],
   "metadata": {
    "collapsed": false,
    "ExecuteTime": {
     "end_time": "2023-12-12T04:46:43.414993Z",
     "start_time": "2023-12-12T04:45:27.049051Z"
    }
   }
  },
  {
   "cell_type": "code",
   "execution_count": 17,
   "outputs": [
    {
     "name": "stderr",
     "output_type": "stream",
     "text": [
      "\u001B[32m2023-12-12 12:41:52.288\u001B[0m | \u001B[1mINFO    \u001B[0m | \u001B[36mcrypto_research.influx.internal\u001B[0m:\u001B[36mcreate_bucket\u001B[0m:\u001B[36m26\u001B[0m - \u001B[1mBucket FUTURES already exists.\u001B[0m\n",
      "100%|██████████| 50/50 [00:10<00:00,  4.95it/s]\n"
     ]
    }
   ],
   "source": [
    "\n",
    "await create_bucket(bucket=FUTURES_BUCKET)\n",
    "\n",
    "interval = KLINE_INTERVAL_1DAY\n",
    "data_generator = await get_historical_klines(\n",
    "    *selected_pairs, start=start, end=end, interval=interval, rate_limit_weight=2200\n",
    ")\n",
    "\n",
    "errors = []\n",
    "\n",
    "async for data_batch in data_generator:\n",
    "    await save_klines_influxdb(data_batch, interval=interval, bucket=FUTURES_BUCKET)\n"
   ],
   "metadata": {
    "collapsed": false,
    "ExecuteTime": {
     "end_time": "2023-12-12T04:42:04.428623Z",
     "start_time": "2023-12-12T04:41:52.249891Z"
    }
   }
  },
  {
   "cell_type": "code",
   "execution_count": 16,
   "outputs": [
    {
     "data": {
      "text/plain": "datetime.datetime(2023, 12, 12, 12, 38, 51, 999000)"
     },
     "execution_count": 16,
     "metadata": {},
     "output_type": "execute_result"
    }
   ],
   "source": [
    "# datetime.fromtimestamp(1702355931999 / 1000)"
   ],
   "metadata": {
    "collapsed": false,
    "ExecuteTime": {
     "end_time": "2023-12-12T04:34:52.844554Z",
     "start_time": "2023-12-12T04:34:52.819409Z"
    }
   }
  },
  {
   "cell_type": "code",
   "execution_count": null,
   "outputs": [],
   "source": [
    "# from crypto_research.binance.loader import _get_historical_klines\n",
    "# \n",
    "# missed_data = await _get_historical_klines('xlmusdt', start=datetime(year=2022, month=4, day=15), end=datetime(year=2022, month=5, day=28), interval='1h')"
   ],
   "metadata": {
    "collapsed": false
   }
  },
  {
   "cell_type": "markdown",
   "source": [
    "#### InfluxDB read a huge amount of data is slow; instead we put it in csv files for research purposes for faster read\n",
    "#### Resample data to 1h as well."
   ],
   "metadata": {
    "collapsed": false
   }
  },
  {
   "cell_type": "code",
   "execution_count": 19,
   "outputs": [
    {
     "name": "stderr",
     "output_type": "stream",
     "text": [
      "100%|██████████| 50/50 [03:40<00:00,  4.40s/it]\n",
      "100%|██████████| 50/50 [00:11<00:00,  4.42it/s]\n"
     ]
    }
   ],
   "source": [
    "\n",
    "from crypto_research.influx.loader import get_klines_pairs, get_klines\n",
    "\n",
    "import tqdm\n",
    "from pathlib import Path\n",
    "output = Path(\"/Users/borsden/Projects/crypto_research/data\")\n",
    "for interval in (KLINE_INTERVAL_1HOUR, KLINE_INTERVAL_1DAY):\n",
    "    # Influxdb can not effectively handle multiple read requests out of the box, make it in a loop.\n",
    "    for trading_pair in tqdm.tqdm(selected_pairs):\n",
    "        data = await get_klines(pair=trading_pair, interval=interval)\n",
    "        data.to_csv(output / interval / f\"{trading_pair}.csv\")\n",
    "    # resample(data, resample_interval).to_csv(output / resample_interval / f\"{trading_pair}.csv\")\n"
   ],
   "metadata": {
    "collapsed": false,
    "ExecuteTime": {
     "end_time": "2023-12-12T05:02:39.377339Z",
     "start_time": "2023-12-12T04:58:47.756408Z"
    }
   }
  },
  {
   "cell_type": "code",
   "execution_count": null,
   "outputs": [],
   "source": [
    "data = await get_klines(interval=interval)"
   ],
   "metadata": {
    "collapsed": false
   }
  },
  {
   "cell_type": "markdown",
   "source": [],
   "metadata": {
    "collapsed": false
   }
  }
 ],
 "metadata": {
  "kernelspec": {
   "display_name": "Python 3",
   "language": "python",
   "name": "python3"
  },
  "language_info": {
   "codemirror_mode": {
    "name": "ipython",
    "version": 2
   },
   "file_extension": ".py",
   "mimetype": "text/x-python",
   "name": "python",
   "nbconvert_exporter": "python",
   "pygments_lexer": "ipython2",
   "version": "2.7.6"
  }
 },
 "nbformat": 4,
 "nbformat_minor": 0
}
